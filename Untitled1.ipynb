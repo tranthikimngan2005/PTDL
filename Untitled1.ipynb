{
 "cells": [
  {
   "cell_type": "markdown",
   "id": "6a561270-41e6-4d49-afc4-db63106f6301",
   "metadata": {},
   "source": [
    "# 📊 PHẦN 1: DECISION ANALYSIS (Phân tích quyết định)\n",
    "\n",
    "## 🔹 Bài toán mẫu\n",
    "\n",
    "| Quyết định | Trạng thái tốt (p = 0.6) | Trạng thái xấu (p = 0.4) |\n",
    "|------------|---------------------------|---------------------------|\n",
    "| A          | 80                        | 20                        |\n",
    "| B          | 50                        | 40                        |\n",
    "\n",
    "## 🔹 Cách tính tay: EMV (Expected Monetary Value)\n",
    "\n",
    "### ✅ Tính EMV cho từng phương án:\n",
    "\n",
    "- **EMV(A)** = 80 × 0.6 + 20 × 0.4 = 48 + 8 = **56**\n",
    "- **EMV(B)** = 50 × 0.6 + 40 × 0.4 = 30 + 16 = **46**\n",
    "\n",
    "## 👉 Kết luận:\n",
    "\n",
    "Vì **EMV(A) > EMV(B)** nên **chọn phương án A** là tối ưu theo tiêu chí giá trị kỳ vọng.\n"
   ]
  },
  {
   "cell_type": "code",
   "execution_count": 1,
   "id": "bf4652b5-27b2-4f89-b4a0-9bd97b86842f",
   "metadata": {},
   "outputs": [
    {
     "name": "stdout",
     "output_type": "stream",
     "text": [
      "  Decision  Good  Bad  Prob_Good  Prob_Bad   EMV\n",
      "0        A    80   20        0.6       0.4  56.0\n",
      "1        B    50   40        0.6       0.4  46.0\n",
      "Phương án tối ưu: A\n"
     ]
    }
   ],
   "source": [
    "import pandas as pd\n",
    "\n",
    "data = {'Decision': ['A', 'B'],\n",
    "        'Good': [80, 50],\n",
    "        'Bad': [20, 40],\n",
    "        'Prob_Good': [0.6, 0.6],\n",
    "        'Prob_Bad': [0.4, 0.4]}\n",
    "\n",
    "df = pd.DataFrame(data)\n",
    "df['EMV'] = df['Good']*df['Prob_Good'] + df['Bad']*df['Prob_Bad']\n",
    "print(df)\n",
    "print(\"Phương án tối ưu:\", df.loc[df['EMV'].idxmax(), 'Decision'])\n"
   ]
  },
  {
   "cell_type": "markdown",
   "id": "c84b6fe5-ccd2-43d7-843a-32e03dbc4dc3",
   "metadata": {},
   "source": [
    "# 📈 PHẦN 2: SIMPLE LINEAR REGRESSION (Hồi quy tuyến tính đơn)\n",
    "\n",
    "## 🔹 Công thức:\n",
    "\n",
    "Phương trình hồi quy tuyến tính đơn:\n",
    "\n",
    "**y = a + bx**\n",
    "\n",
    "Trong đó:\n",
    "\n",
    "- **b** = \\(\\frac{n \\sum(xy) - \\sum x \\sum y}{n \\sum(x^2) - (\\sum x)^2}\\)\n",
    "- **a** = \\(\\bar{y} - b \\bar{x}\\)\n",
    "\n",
    "---\n",
    "\n",
    "## 🔹 Dữ liệu:\n",
    "\n",
    "- \\(\\sum x = 15\\)\n",
    "- \\(\\sum y = 20\\)\n",
    "- \\(\\sum x^2 = 55\\)\n",
    "- \\(\\sum xy = 66\\)\n",
    "- \\(n = 5\\)\n",
    "\n",
    "---\n",
    "\n",
    "## 🔹 Tính toán:\n",
    "\n",
    "### ✅ Hệ số b:\n",
    "\n",
    "\\[\n",
    "b = \\frac{5 \\times 66 - 15 \\times 20}{5 \\times 55 - 15^2} = \\frac{330 - 300}{275 - 225} = \\frac{30}{50} = 0.6\n",
    "\\]\n",
    "### ✅ Hệ số a:\n",
    "\\[\n",
    "\\bar{x} = \\frac{15}{5} = 3,\\quad \\bar{y} = \\frac{20}{5} = 4\n",
    "\\]\n",
    "\\[\n",
    "a = 4 - 0.6 \\times 3 = 4 - 1.8 = 2.2\n",
    "\\]\n",
    "\n",
    "## 🔹 Phương trình hồi quy:\n",
    "\n",
    "**y = 2.2 + 0.6x**\n",
    "\n",
    "## 🔹 Dự đoán:\n",
    "\n",
    "Nếu học **6 giờ** thì:\n",
    "\n",
    "\\[\n",
    "y = 2.2 + 0.6 \\times 6 = 2.2 + 3.6 = \\boxed{5.8 \\text{ điểm}}\n",
    "\\]"
   ]
  },
  {
   "cell_type": "code",
   "execution_count": 2,
   "id": "a745e586-3321-4265-8685-00ec1213c8ec",
   "metadata": {},
   "outputs": [
    {
     "name": "stdout",
     "output_type": "stream",
     "text": [
      "Phương trình: y = 2.1999999999999993 + 0.6000000000000002 x\n",
      "Dự đoán điểm khi học 6 giờ: 5.800000000000001\n"
     ]
    }
   ],
   "source": [
    "import numpy as np\n",
    "from sklearn.linear_model import LinearRegression\n",
    "\n",
    "X = np.array([[1],[2],[3],[4],[5]])\n",
    "y = np.array([2,4,5,4,5])\n",
    "\n",
    "model = LinearRegression()\n",
    "model.fit(X, y)\n",
    "\n",
    "print(\"Phương trình: y =\", model.intercept_, \"+\", model.coef_[0], \"x\")\n",
    "print(\"Dự đoán điểm khi học 6 giờ:\", model.predict([[6]])[0])\n"
   ]
  },
  {
   "cell_type": "markdown",
   "id": "f7dab8b6-aaae-4533-ba84-5a4bb09ae42f",
   "metadata": {},
   "source": [
    "# 📊 PHẦN 3: FORECASTING (Dự báo)\n",
    "\n",
    "## 🔹 Dữ liệu doanh số 5 tháng gần nhất\n",
    "\n",
    "| Tháng | Doanh số |\n",
    "|-------|----------|\n",
    "| 1     | 117.8    |\n",
    "| 2     | 118.2    |\n",
    "| 3     | 114.3    |\n",
    "| 4     | 115.6    |\n",
    "| 5     | 115.2    |\n",
    "\n",
    "## 1️⃣ Moving Average (MA) – Trung bình động 3 kỳ gần nhất\n",
    "\n",
    "### 📌 Công thức:\n",
    "\\[\n",
    "MA_t = \\frac{Y_{t-1} + Y_{t-2} + Y_{t-3}}{3}\n",
    "\\]\n",
    "### ✅ Tính dự báo tháng 6:\n",
    "\\[\n",
    "MA_6 = \\frac{115.2 + 115.6 + 114.3}{3} = \\frac{345.1}{3} = \\boxed{115.03}\n",
    "\\]\n",
    "👉 **Dự báo tháng 6 theo MA = 115.03**\n",
    "\n",
    "## 2️⃣ Exponential Smoothing (EWMA) – Làm mượt hàm mũ\n",
    "### 📌 Công thức:\n",
    "\\[\n",
    "S_t = \\alpha Y_t + (1 - \\alpha) S_{t-1}\n",
    "\\]\n",
    "### ✅ Giả sử:  \n",
    "- \\(\\alpha = 0.5\\)  \n",
    "- \\(S_2 = Y_1 = 117.8\\)\n",
    "### 🔢 Tính từng bước:\n",
    "- \\(S_3 = 0.5 \\times 118.2 + 0.5 \\times 117.8 = 118.0\\)\n",
    "- \\(S_4 = 0.5 \\times 114.3 + 0.5 \\times 118.0 = 116.15\\)\n",
    "- \\(S_5 = 0.5 \\times 115.6 + 0.5 \\times 116.15 = 115.875\\)\n",
    "- \\(S_6 = 0.5 \\times 115.2 + 0.5 \\times 115.875 = \\boxed{115.5375}\\)\n",
    "👉 **Dự báo tháng 6 theo EWMA = 115.54**\n",
    "## 🎯 So sánh kết quả:\n",
    "\n",
    "| Phương pháp             | Dự báo tháng 6 |\n",
    "|-------------------------|----------------|\n",
    "| Moving Average (MA)     | 115.03         |\n",
    "| Exponential Smoothing   | 115.54         |\n",
    "\n"
   ]
  },
  {
   "cell_type": "code",
   "execution_count": 6,
   "id": "c69f259b-ffa4-40e8-bacc-9a93e78c0c57",
   "metadata": {},
   "outputs": [
    {
     "name": "stdout",
     "output_type": "stream",
     "text": [
      "Dự báo tháng 6 (MA3): 114.33333333333333\n",
      "Dự báo tháng 6 (EWMA): 111.35499999999999\n"
     ]
    }
   ],
   "source": [
    "import pandas as pd\n",
    "\n",
    "sales = [100,110,108,115,120]\n",
    "\n",
    "# Moving Average\n",
    "ma3 = sum(sales[-3:])/3\n",
    "print(\"Dự báo tháng 6 (MA3):\", ma3)\n",
    "\n",
    "# Exponential Smoothing\n",
    "alpha = 0.3\n",
    "F = [sales[0]]\n",
    "for t in range(1, len(sales)):\n",
    "    Ft = alpha*sales[t-1] + (1-alpha)*F[t-1]\n",
    "    F.append(Ft)\n",
    "F6 = alpha*sales[-1] + (1-alpha)*F[-1]\n",
    "print(\"Dự báo tháng 6 (EWMA):\", F6)\n"
   ]
  },
  {
   "cell_type": "code",
   "execution_count": null,
   "id": "2ffe351f-d9d0-4a06-80d6-52338ab8d371",
   "metadata": {},
   "outputs": [],
   "source": []
  },
  {
   "cell_type": "code",
   "execution_count": 5,
   "id": "7a50a44a-637d-4b1c-a865-cbb2b46f49a9",
   "metadata": {},
   "outputs": [
    {
     "name": "stdout",
     "output_type": "stream",
     "text": [
      "Dự báo tháng 6 (MA3): 114.33333333333333\n",
      "Dự báo tháng 6 (EWMA): 111.35499999999999\n"
     ]
    }
   ],
   "source": [
    "import pandas as pd\n",
    "\n",
    "sales = [100,110,108,115,120]\n",
    "\n",
    "# Moving Average\n",
    "ma3 = sum(sales[-3:])/3\n",
    "print(\"Dự báo tháng 6 (MA3):\", ma3)\n",
    "\n",
    "# Exponential Smoothing\n",
    "alpha = 0.3\n",
    "F = [sales[0]]\n",
    "for t in range(1, len(sales)):\n",
    "    Ft = alpha*sales[t-1] + (1-alpha)*F[t-1]\n",
    "    F.append(Ft)\n",
    "F6 = alpha*sales[-1] + (1-alpha)*F[-1]\n",
    "print(\"Dự báo tháng 6 (EWMA):\", F6)\n"
   ]
  },
  {
   "cell_type": "code",
   "execution_count": null,
   "id": "bc0bb35c-747e-4a49-bcd9-fecb2007bef7",
   "metadata": {},
   "outputs": [],
   "source": []
  }
 ],
 "metadata": {
  "kernelspec": {
   "display_name": "Python [conda env:base] *",
   "language": "python",
   "name": "conda-base-py"
  },
  "language_info": {
   "codemirror_mode": {
    "name": "ipython",
    "version": 3
   },
   "file_extension": ".py",
   "mimetype": "text/x-python",
   "name": "python",
   "nbconvert_exporter": "python",
   "pygments_lexer": "ipython3",
   "version": "3.13.5"
  }
 },
 "nbformat": 4,
 "nbformat_minor": 5
}
